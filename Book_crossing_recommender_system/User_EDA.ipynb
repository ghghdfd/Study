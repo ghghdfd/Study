{
 "cells": [
  {
   "cell_type": "code",
   "execution_count": 6,
   "metadata": {},
   "outputs": [],
   "source": [
    "import pandas as pd"
   ]
  },
  {
   "cell_type": "code",
   "execution_count": 7,
   "metadata": {},
   "outputs": [],
   "source": [
    "user = pd.read_csv('./BX-Users.csv')\n",
    "rating = pd.read_csv('./BX-Book-Ratings.csv')\n",
    "book = pd.read_csv('./BX-Books.csv')"
   ]
  },
  {
   "cell_type": "code",
   "execution_count": 8,
   "metadata": {},
   "outputs": [
    {
     "data": {
      "text/html": [
       "<div>\n",
       "<style scoped>\n",
       "    .dataframe tbody tr th:only-of-type {\n",
       "        vertical-align: middle;\n",
       "    }\n",
       "\n",
       "    .dataframe tbody tr th {\n",
       "        vertical-align: top;\n",
       "    }\n",
       "\n",
       "    .dataframe thead th {\n",
       "        text-align: right;\n",
       "    }\n",
       "</style>\n",
       "<table border=\"1\" class=\"dataframe\">\n",
       "  <thead>\n",
       "    <tr style=\"text-align: right;\">\n",
       "      <th></th>\n",
       "      <th>User-ID</th>\n",
       "      <th>Location</th>\n",
       "      <th>Age</th>\n",
       "    </tr>\n",
       "  </thead>\n",
       "  <tbody>\n",
       "    <tr>\n",
       "      <th>0</th>\n",
       "      <td>183</td>\n",
       "      <td>porto, porto, portugal</td>\n",
       "      <td>27.0</td>\n",
       "    </tr>\n",
       "    <tr>\n",
       "      <th>1</th>\n",
       "      <td>242</td>\n",
       "      <td>neuffen, baden-wuerttemberg, germany</td>\n",
       "      <td>37.0</td>\n",
       "    </tr>\n",
       "    <tr>\n",
       "      <th>2</th>\n",
       "      <td>254</td>\n",
       "      <td>minneapolis, minnesota, usa</td>\n",
       "      <td>24.0</td>\n",
       "    </tr>\n",
       "    <tr>\n",
       "      <th>3</th>\n",
       "      <td>388</td>\n",
       "      <td>nashville, tennessee, usa</td>\n",
       "      <td>35.0</td>\n",
       "    </tr>\n",
       "    <tr>\n",
       "      <th>4</th>\n",
       "      <td>392</td>\n",
       "      <td>barcelona, catalunya, spain</td>\n",
       "      <td>44.0</td>\n",
       "    </tr>\n",
       "  </tbody>\n",
       "</table>\n",
       "</div>"
      ],
      "text/plain": [
       "   User-ID                              Location   Age\n",
       "0      183                porto, porto, portugal  27.0\n",
       "1      242  neuffen, baden-wuerttemberg, germany  37.0\n",
       "2      254           minneapolis, minnesota, usa  24.0\n",
       "3      388             nashville, tennessee, usa  35.0\n",
       "4      392           barcelona, catalunya, spain  44.0"
      ]
     },
     "execution_count": 8,
     "metadata": {},
     "output_type": "execute_result"
    }
   ],
   "source": [
    "user.head()"
   ]
  },
  {
   "cell_type": "code",
   "execution_count": 9,
   "metadata": {},
   "outputs": [
    {
     "name": "stdout",
     "output_type": "stream",
     "text": [
      "<class 'pandas.core.frame.DataFrame'>\n",
      "RangeIndex: 5157 entries, 0 to 5156\n",
      "Data columns (total 3 columns):\n",
      " #   Column    Non-Null Count  Dtype  \n",
      "---  ------    --------------  -----  \n",
      " 0   User-ID   5157 non-null   int64  \n",
      " 1   Location  5157 non-null   object \n",
      " 2   Age       5157 non-null   float64\n",
      "dtypes: float64(1), int64(1), object(1)\n",
      "memory usage: 121.0+ KB\n"
     ]
    }
   ],
   "source": [
    "# dataframe 정보\n",
    "user.info()"
   ]
  },
  {
   "cell_type": "markdown",
   "metadata": {},
   "source": [
    "- 5157명 분의 정보\n",
    "- USER-ID, Location, Age 열"
   ]
  },
  {
   "cell_type": "code",
   "execution_count": 10,
   "metadata": {},
   "outputs": [
    {
     "data": {
      "text/plain": [
       "<AxesSubplot:>"
      ]
     },
     "execution_count": 10,
     "metadata": {},
     "output_type": "execute_result"
    },
    {
     "data": {
      "image/png": "[encoded data removed]",
      "text/plain": [
       "<Figure size 1800x720 with 2 Axes>"
      ]
     },
     "metadata": {
      "needs_background": "light"
     },
     "output_type": "display_data"
    }
   ],
   "source": [
    "# 결측치 확인\n",
    "import missingno as msno\n",
    "msno.matrix(user)"
   ]
  },
  {
   "cell_type": "code",
   "execution_count": 11,
   "metadata": {},
   "outputs": [
    {
     "data": {
      "text/plain": [
       "User-ID     False\n",
       "Location    False\n",
       "Age         False\n",
       "dtype: bool"
      ]
     },
     "execution_count": 11,
     "metadata": {},
     "output_type": "execute_result"
    }
   ],
   "source": [
    "user.isnull().any()"
   ]
  },
  {
   "cell_type": "markdown",
   "metadata": {},
   "source": [
    "- 결측치 없음이 확인됨"
   ]
  },
  {
   "cell_type": "code",
   "execution_count": 12,
   "metadata": {},
   "outputs": [
    {
     "data": {
      "text/plain": [
       "0                  porto, porto, portugal\n",
       "1    neuffen, baden-wuerttemberg, germany\n",
       "2             minneapolis, minnesota, usa\n",
       "3               nashville, tennessee, usa\n",
       "4             barcelona, catalunya, spain\n",
       "Name: Location, dtype: object"
      ]
     },
     "execution_count": 12,
     "metadata": {},
     "output_type": "execute_result"
    }
   ],
   "source": [
    "# Location 정보\n",
    "user.Location.head()"
   ]
  },
  {
   "cell_type": "code",
   "execution_count": 13,
   "metadata": {},
   "outputs": [
    {
     "name": "stdout",
     "output_type": "stream",
     "text": [
      "['coalville', 'leicestershire', 'england', 'unitedkingdom']\n",
      "['st.l?normandy', 'france']\n",
      "['gav?barcelona(catalunya)', 'spain']\n",
      "['belfort', 'franche-comt?france']\n",
      "['tharston', 'norwich', 'england', 'unitedkingdom']\n",
      "['wichita', '', 'kansas', 'usa']\n",
      "['ermington', 's.devon', 'england', 'unitedkingdom']\n",
      "['redmond', 'or', 'oregon', 'usa']\n",
      "['hauppauge', 'longisland', 'newyork', 'usa']\n",
      "['chicago', 'il', 'illinois', 'usa']\n",
      "['m?ico', 'd.f.', 'disritofederal', 'mexico']\n",
      "['rub?barcelona', 'spain']\n",
      "['?m?ano', 'santacruzdetenerife', 'canaryislands', 'spain']\n",
      "['besan?n', 'franche-comt?france']\n",
      "['preston', 'lancashire', 'england', 'unitedkingdom']\n",
      "['merrick', 'acworth', 'newyork', 'georgia', 'usa']\n",
      "['matar?barcelona', 'spain']\n",
      "['ramsey', 'huntingdon', 'cambridgeshire', 'unitedkingdom']\n",
      "['lons-le-saunier', 'franche-comt?france']\n",
      "['barboursville', '', 'virginia', 'usa']\n",
      "['burnaby', 'bc', 'britishcolumbia', 'canada']\n",
      "['gav?barcelona', 'spain']\n",
      "['valencia', 'pa?valenci?spain']\n",
      "['belfort', 'franche-comt?france']\n",
      "['pasadena', 'maryland', 'maryland', 'usa']\n",
      "['gav?catalunya', 'spain']\n",
      "['silsden', 'keighley', 'england', 'unitedkingdom']\n",
      "['quinton', '', 'virginia', 'usa']\n",
      "['besan?n', 'franche-comt?france']\n",
      "['akron', '', 'ohio', 'usa']\n",
      "['lakeland', '', 'florida', 'usa']\n",
      "['vic', 'barcelona', 'catalunya', 'spain']\n",
      "['jyv?kyl?keski-suomi', 'finland']\n",
      "['marratx?illesbalears', 'spain']\n",
      "['amora', 'estremadura', '', 'portugal']\n",
      "['sydenham', 'london', 'england', 'unitedkingdom']\n",
      "['richmond', 'london', 'england', 'unitedkingdom']\n"
     ]
    }
   ],
   "source": [
    "for i in user.Location.values:\n",
    "    i = i.replace(' ', '') # 쉼표 뒤의 공백을 지움.\n",
    "    if len(i.split(',')) != 3:\n",
    "        print(i.split(','))"
   ]
  },
  {
   "cell_type": "markdown",
   "metadata": {},
   "source": [
    "- 대부분 도시, 지방, 국가 의 형태로 나누어져 있음.\n",
    "- 그러나 도시, 지방1, 지방2, 국가 의 형태로 나누어져 있는 경우도 존재하며,\n",
    "- 지방, 국가의 형태로 나누어져 있는 경우도 존재함.\n",
    "- 또한 이름이 명확하게 기재되지 않은 경우도 존재함. (besan?n, jyv?kyl?keski-suomi 처럼)\n",
    "- 따라서 일단은 국가명만 가져온다."
   ]
  },
  {
   "cell_type": "code",
   "execution_count": 14,
   "metadata": {},
   "outputs": [],
   "source": [
    "# Location 나누기\n",
    "nation = []\n",
    "for i in user.Location.values:\n",
    "    i = i.replace(' ', '') # 쉼표 뒤의 공백을 지움.\n",
    "    nation.append(i.split(',')[-1])"
   ]
  },
  {
   "cell_type": "code",
   "execution_count": 15,
   "metadata": {},
   "outputs": [],
   "source": [
    "# Location에 국가명 할당\n",
    "user.Location = nation"
   ]
  },
  {
   "cell_type": "code",
   "execution_count": 16,
   "metadata": {},
   "outputs": [
    {
     "data": {
      "text/plain": [
       "['',\n",
       " 'andorra',\n",
       " 'argentina',\n",
       " 'australia',\n",
       " 'austria',\n",
       " 'belgium',\n",
       " 'brazil',\n",
       " 'bulgaria',\n",
       " 'burma',\n",
       " 'canada',\n",
       " 'catalonia',\n",
       " 'catalunya',\n",
       " 'chile',\n",
       " 'china',\n",
       " 'costarica',\n",
       " 'czechrepublic',\n",
       " 'denmark',\n",
       " 'dominicanrepublic',\n",
       " 'england',\n",
       " 'euskalherria',\n",
       " 'faraway...',\n",
       " 'finland',\n",
       " 'france',\n",
       " 'franche-comt?france',\n",
       " 'galiza',\n",
       " 'germany',\n",
       " 'guatemala',\n",
       " 'hereandthere',\n",
       " 'hongkong',\n",
       " 'hungary',\n",
       " 'india',\n",
       " 'iran',\n",
       " 'ireland',\n",
       " 'italy',\n",
       " 'japan',\n",
       " 'kuwait',\n",
       " 'luxembourg',\n",
       " 'madagascar',\n",
       " 'malaysia',\n",
       " 'mexico',\n",
       " 'netherlands',\n",
       " 'newzealand',\n",
       " 'norway',\n",
       " 'orense',\n",
       " 'pa?valenci?spain',\n",
       " 'panama',\n",
       " 'papuanewguinea',\n",
       " 'philippines',\n",
       " 'phillipines',\n",
       " 'poland',\n",
       " 'portugal',\n",
       " 'qatar',\n",
       " 'romania',\n",
       " 'singapore',\n",
       " 'southafrica',\n",
       " 'spain',\n",
       " 'sweden',\n",
       " 'switzerland',\n",
       " 'taiwan',\n",
       " 'trinidadandtobago',\n",
       " 'turkey',\n",
       " 'u.s.a.',\n",
       " 'unitedkingdom',\n",
       " 'unitedstate',\n",
       " 'unitedstates',\n",
       " 'usa']"
      ]
     },
     "execution_count": 16,
     "metadata": {},
     "output_type": "execute_result"
    }
   ],
   "source": [
    "sorted(user.Location.unique())"
   ]
  },
  {
   "cell_type": "markdown",
   "metadata": {},
   "source": [
    "- '' : 공백으로 들어간 국가명도 존재. -> unknown\n",
    "- 'faraway...', 'hereandthere' -> unknown\n",
    "- usa, u.s.a, unitedstates 등 같은 국가이지만 다르게 적혀있는 경우를 모두 통합해줘야함.\n",
    "- 또한 catlunya처럼 국가명이 아니라 지방명이 들어간 경우도 존재함.\n",
    "- 그리고 franche-comt?france 처럼 잘못되어 있는 국가명도 있음."
   ]
  },
  {
   "cell_type": "code",
   "execution_count": 17,
   "metadata": {},
   "outputs": [],
   "source": [
    "# unknown 처리해주어야 할 값들\n",
    "user.Location = user.Location.replace(['', 'faraway...', 'hereandthere'], ['unknown', 'unknown', 'unknown'])\n",
    "\n",
    "# 지방명 -> 국가명\n",
    "user.Location = user.Location.replace(['euskalherria', 'galiza', 'orense', 'catalonia', 'catalunya'], ['spain', 'spain', 'spain', 'spain', 'spain'])\n",
    "\n",
    "# 잘못된 국가명 -> 올바른 국가명\n",
    "user.Location = user.Location.replace(['franche-comt?france', 'pa?valenci?spain', 'phillipines'], ['france', 'spain', 'philippines'])\n",
    "user.Location = user.Location.replace(['u.s.a.', 'unitedstate', 'unitedstates'], ['usa', 'usa', 'usa']) # 미국\n",
    "user.Location = user.Location.replace(['england'],['unitedkingdom'])"
   ]
  },
  {
   "cell_type": "code",
   "execution_count": 18,
   "metadata": {},
   "outputs": [
    {
     "data": {
      "text/plain": [
       "array(['portugal', 'germany', 'usa', 'spain', 'france', 'austria',\n",
       "       'unitedkingdom', 'malaysia', 'taiwan', 'canada', 'iran', 'italy',\n",
       "       'switzerland', 'romania', 'finland', 'philippines', 'australia',\n",
       "       'india', 'qatar', 'japan', 'denmark', 'ireland', 'andorra',\n",
       "       'belgium', 'unknown', 'chile', 'brazil', 'netherlands',\n",
       "       'papuanewguinea', 'newzealand', 'argentina', 'mexico', 'sweden',\n",
       "       'china', 'hongkong', 'burma', 'hungary', 'singapore', 'poland',\n",
       "       'southafrica', 'kuwait', 'dominicanrepublic', 'panama', 'norway',\n",
       "       'turkey', 'costarica', 'bulgaria', 'guatemala', 'madagascar',\n",
       "       'czechrepublic', 'trinidadandtobago', 'luxembourg'], dtype=object)"
      ]
     },
     "execution_count": 18,
     "metadata": {},
     "output_type": "execute_result"
    }
   ],
   "source": [
    "user.Location.unique()"
   ]
  },
  {
   "cell_type": "code",
   "execution_count": 19,
   "metadata": {},
   "outputs": [
    {
     "data": {
      "text/plain": [
       "52"
      ]
     },
     "execution_count": 19,
     "metadata": {},
     "output_type": "execute_result"
    }
   ],
   "source": [
    "user.Location.nunique()"
   ]
  },
  {
   "cell_type": "markdown",
   "metadata": {},
   "source": [
    "- user들은 총 52개의 국가에 걸쳐 존재하는 것으로 나타남."
   ]
  },
  {
   "cell_type": "code",
   "execution_count": 20,
   "metadata": {},
   "outputs": [
    {
     "data": {
      "text/plain": [
       "['andorra',\n",
       " 'argentina',\n",
       " 'australia',\n",
       " 'austria',\n",
       " 'belgium',\n",
       " 'brazil',\n",
       " 'bulgaria',\n",
       " 'burma',\n",
       " 'canada',\n",
       " 'chile',\n",
       " 'china',\n",
       " 'costarica',\n",
       " 'czechrepublic',\n",
       " 'denmark',\n",
       " 'dominicanrepublic',\n",
       " 'finland',\n",
       " 'france',\n",
       " 'germany',\n",
       " 'guatemala',\n",
       " 'hongkong',\n",
       " 'hungary',\n",
       " 'india',\n",
       " 'iran',\n",
       " 'ireland',\n",
       " 'italy',\n",
       " 'japan',\n",
       " 'kuwait',\n",
       " 'luxembourg',\n",
       " 'madagascar',\n",
       " 'malaysia',\n",
       " 'mexico',\n",
       " 'netherlands',\n",
       " 'newzealand',\n",
       " 'norway',\n",
       " 'panama',\n",
       " 'papuanewguinea',\n",
       " 'philippines',\n",
       " 'poland',\n",
       " 'portugal',\n",
       " 'qatar',\n",
       " 'romania',\n",
       " 'singapore',\n",
       " 'southafrica',\n",
       " 'spain',\n",
       " 'sweden',\n",
       " 'switzerland',\n",
       " 'taiwan',\n",
       " 'trinidadandtobago',\n",
       " 'turkey',\n",
       " 'unitedkingdom',\n",
       " 'unknown',\n",
       " 'usa']"
      ]
     },
     "execution_count": 20,
     "metadata": {},
     "output_type": "execute_result"
    }
   ],
   "source": [
    "sorted(user.Location.unique())"
   ]
  },
  {
   "cell_type": "code",
   "execution_count": 21,
   "metadata": {},
   "outputs": [
    {
     "data": {
      "text/plain": [
       "array([2717,  681,  397,  368,  212,  198,  107,   94,   68,   49,   46,\n",
       "         41,   35,   14,   14,   11,    9,    9,    8,    7,    6,    6,\n",
       "          5,    5,    5,    5,    3,    3,    3,    2,    2,    2,    2,\n",
       "          2,    2,    2,    2,    1,    1,    1,    1,    1,    1,    1,\n",
       "          1,    1,    1,    1,    1,    1,    1,    1], dtype=int64)"
      ]
     },
     "execution_count": 21,
     "metadata": {},
     "output_type": "execute_result"
    }
   ],
   "source": [
    "user.Location.value_counts().sort_values(ascending=False).values"
   ]
  },
  {
   "cell_type": "code",
   "execution_count": 22,
   "metadata": {},
   "outputs": [
    {
     "data": {
      "text/plain": [
       "([0,\n",
       "  1,\n",
       "  2,\n",
       "  3,\n",
       "  4,\n",
       "  5,\n",
       "  6,\n",
       "  7,\n",
       "  8,\n",
       "  9,\n",
       "  10,\n",
       "  11,\n",
       "  12,\n",
       "  13,\n",
       "  14,\n",
       "  15,\n",
       "  16,\n",
       "  17,\n",
       "  18,\n",
       "  19,\n",
       "  20,\n",
       "  21,\n",
       "  22,\n",
       "  23,\n",
       "  24,\n",
       "  25,\n",
       "  26,\n",
       "  27,\n",
       "  28,\n",
       "  29,\n",
       "  30,\n",
       "  31,\n",
       "  32,\n",
       "  33,\n",
       "  34,\n",
       "  35,\n",
       "  36,\n",
       "  37,\n",
       "  38,\n",
       "  39,\n",
       "  40,\n",
       "  41,\n",
       "  42,\n",
       "  43,\n",
       "  44,\n",
       "  45,\n",
       "  46,\n",
       "  47,\n",
       "  48,\n",
       "  49,\n",
       "  50,\n",
       "  51],\n",
       " [Text(0, 0, ''),\n",
       "  Text(0, 0, ''),\n",
       "  Text(0, 0, ''),\n",
       "  Text(0, 0, ''),\n",
       "  Text(0, 0, ''),\n",
       "  Text(0, 0, ''),\n",
       "  Text(0, 0, ''),\n",
       "  Text(0, 0, ''),\n",
       "  Text(0, 0, ''),\n",
       "  Text(0, 0, ''),\n",
       "  Text(0, 0, ''),\n",
       "  Text(0, 0, ''),\n",
       "  Text(0, 0, ''),\n",
       "  Text(0, 0, ''),\n",
       "  Text(0, 0, ''),\n",
       "  Text(0, 0, ''),\n",
       "  Text(0, 0, ''),\n",
       "  Text(0, 0, ''),\n",
       "  Text(0, 0, ''),\n",
       "  Text(0, 0, ''),\n",
       "  Text(0, 0, ''),\n",
       "  Text(0, 0, ''),\n",
       "  Text(0, 0, ''),\n",
       "  Text(0, 0, ''),\n",
       "  Text(0, 0, ''),\n",
       "  Text(0, 0, ''),\n",
       "  Text(0, 0, ''),\n",
       "  Text(0, 0, ''),\n",
       "  Text(0, 0, ''),\n",
       "  Text(0, 0, ''),\n",
       "  Text(0, 0, ''),\n",
       "  Text(0, 0, ''),\n",
       "  Text(0, 0, ''),\n",
       "  Text(0, 0, ''),\n",
       "  Text(0, 0, ''),\n",
       "  Text(0, 0, ''),\n",
       "  Text(0, 0, ''),\n",
       "  Text(0, 0, ''),\n",
       "  Text(0, 0, ''),\n",
       "  Text(0, 0, ''),\n",
       "  Text(0, 0, ''),\n",
       "  Text(0, 0, ''),\n",
       "  Text(0, 0, ''),\n",
       "  Text(0, 0, ''),\n",
       "  Text(0, 0, ''),\n",
       "  Text(0, 0, ''),\n",
       "  Text(0, 0, ''),\n",
       "  Text(0, 0, ''),\n",
       "  Text(0, 0, ''),\n",
       "  Text(0, 0, ''),\n",
       "  Text(0, 0, ''),\n",
       "  Text(0, 0, '')])"
      ]
     },
     "execution_count": 22,
     "metadata": {},
     "output_type": "execute_result"
    },
    {
     "data": {
      "image/png": "[encoded data removed]",
      "text/plain": [
       "<Figure size 864x576 with 1 Axes>"
      ]
     },
     "metadata": {
      "needs_background": "light"
     },
     "output_type": "display_data"
    }
   ],
   "source": [
    "# plot해서 국가별 사용자 수 나타내보기\n",
    "import matplotlib.pyplot as plt\n",
    "plt.figure(figsize=(12, 8))\n",
    "plt.bar(x=user.Location.value_counts().sort_values(ascending=False).index,\\\n",
    "        height=user.Location.value_counts().sort_values(ascending=False).values)\n",
    "plt.xticks(rotation=90, size=15)"
   ]
  },
  {
   "cell_type": "markdown",
   "metadata": {},
   "source": [
    "- usa user가 압도적으로 많은 것을 확인 가능."
   ]
  },
  {
   "cell_type": "code",
   "execution_count": 23,
   "metadata": {},
   "outputs": [
    {
     "data": {
      "text/plain": [
       "count    5157.000000\n",
       "mean       34.983324\n",
       "std        13.848990\n",
       "min         0.000000\n",
       "25%        26.000000\n",
       "50%        33.000000\n",
       "75%        41.000000\n",
       "max       244.000000\n",
       "Name: Age, dtype: float64"
      ]
     },
     "execution_count": 23,
     "metadata": {},
     "output_type": "execute_result"
    }
   ],
   "source": [
    "# Age 열의 기본 정보\n",
    "user.Age.describe()"
   ]
  },
  {
   "cell_type": "markdown",
   "metadata": {},
   "source": [
    "- 평균 34.9세, 표준편차 13.8세\n",
    "- max 값이 244세인 것으로 봐서는 이상치 존재함을 알 수 있음"
   ]
  },
  {
   "cell_type": "code",
   "execution_count": 24,
   "metadata": {
    "scrolled": true
   },
   "outputs": [
    {
     "name": "stderr",
     "output_type": "stream",
     "text": [
      "C:\\Users\\gommg\\anaconda3\\envs\\basic\\lib\\site-packages\\seaborn\\distributions.py:2551: FutureWarning: `distplot` is a deprecated function and will be removed in a future version. Please adapt your code to use either `displot` (a figure-level function with similar flexibility) or `histplot` (an axes-level function for histograms).\n",
      "  warnings.warn(msg, FutureWarning)\n"
     ]
    },
    {
     "data": {
      "text/plain": [
       "<AxesSubplot:xlabel='Age', ylabel='Density'>"
      ]
     },
     "execution_count": 24,
     "metadata": {},
     "output_type": "execute_result"
    },
    {
     "data": {
      "image/png": "[encoded data removed]",
      "text/plain": [
       "<Figure size 432x288 with 1 Axes>"
      ]
     },
     "metadata": {
      "needs_background": "light"
     },
     "output_type": "display_data"
    }
   ],
   "source": [
    "# distplot\n",
    "import seaborn as sns\n",
    "sns.distplot(user.Age)"
   ]
  },
  {
   "cell_type": "markdown",
   "metadata": {},
   "source": [
    "- right-skewed 되어 있음을 볼 수 있다.\n",
    "- 이상치가 존재하여 전반적으로 그래프가 왼쪽으로 치우침."
   ]
  },
  {
   "cell_type": "code",
   "execution_count": 25,
   "metadata": {},
   "outputs": [
    {
     "data": {
      "text/html": [
       "<div>\n",
       "<style scoped>\n",
       "    .dataframe tbody tr th:only-of-type {\n",
       "        vertical-align: middle;\n",
       "    }\n",
       "\n",
       "    .dataframe tbody tr th {\n",
       "        vertical-align: top;\n",
       "    }\n",
       "\n",
       "    .dataframe thead th {\n",
       "        text-align: right;\n",
       "    }\n",
       "</style>\n",
       "<table border=\"1\" class=\"dataframe\">\n",
       "  <thead>\n",
       "    <tr style=\"text-align: right;\">\n",
       "      <th></th>\n",
       "      <th>User-ID</th>\n",
       "      <th>Location</th>\n",
       "      <th>Age</th>\n",
       "    </tr>\n",
       "  </thead>\n",
       "  <tbody>\n",
       "    <tr>\n",
       "      <th>0</th>\n",
       "      <td>8782</td>\n",
       "      <td>canada</td>\n",
       "      <td>239.0</td>\n",
       "    </tr>\n",
       "    <tr>\n",
       "      <th>1</th>\n",
       "      <td>13273</td>\n",
       "      <td>usa</td>\n",
       "      <td>201.0</td>\n",
       "    </tr>\n",
       "    <tr>\n",
       "      <th>2</th>\n",
       "      <td>20688</td>\n",
       "      <td>spain</td>\n",
       "      <td>104.0</td>\n",
       "    </tr>\n",
       "    <tr>\n",
       "      <th>3</th>\n",
       "      <td>20857</td>\n",
       "      <td>germany</td>\n",
       "      <td>244.0</td>\n",
       "    </tr>\n",
       "    <tr>\n",
       "      <th>4</th>\n",
       "      <td>71800</td>\n",
       "      <td>usa</td>\n",
       "      <td>136.0</td>\n",
       "    </tr>\n",
       "    <tr>\n",
       "      <th>5</th>\n",
       "      <td>76482</td>\n",
       "      <td>usa</td>\n",
       "      <td>103.0</td>\n",
       "    </tr>\n",
       "    <tr>\n",
       "      <th>6</th>\n",
       "      <td>90766</td>\n",
       "      <td>burma</td>\n",
       "      <td>136.0</td>\n",
       "    </tr>\n",
       "    <tr>\n",
       "      <th>7</th>\n",
       "      <td>96714</td>\n",
       "      <td>spain</td>\n",
       "      <td>141.0</td>\n",
       "    </tr>\n",
       "    <tr>\n",
       "      <th>8</th>\n",
       "      <td>101668</td>\n",
       "      <td>germany</td>\n",
       "      <td>151.0</td>\n",
       "    </tr>\n",
       "    <tr>\n",
       "      <th>9</th>\n",
       "      <td>119282</td>\n",
       "      <td>usa</td>\n",
       "      <td>168.0</td>\n",
       "    </tr>\n",
       "    <tr>\n",
       "      <th>10</th>\n",
       "      <td>121726</td>\n",
       "      <td>australia</td>\n",
       "      <td>148.0</td>\n",
       "    </tr>\n",
       "    <tr>\n",
       "      <th>11</th>\n",
       "      <td>163655</td>\n",
       "      <td>germany</td>\n",
       "      <td>199.0</td>\n",
       "    </tr>\n",
       "    <tr>\n",
       "      <th>12</th>\n",
       "      <td>172634</td>\n",
       "      <td>spain</td>\n",
       "      <td>100.0</td>\n",
       "    </tr>\n",
       "    <tr>\n",
       "      <th>13</th>\n",
       "      <td>198984</td>\n",
       "      <td>france</td>\n",
       "      <td>104.0</td>\n",
       "    </tr>\n",
       "    <tr>\n",
       "      <th>14</th>\n",
       "      <td>213150</td>\n",
       "      <td>usa</td>\n",
       "      <td>103.0</td>\n",
       "    </tr>\n",
       "    <tr>\n",
       "      <th>15</th>\n",
       "      <td>224764</td>\n",
       "      <td>usa</td>\n",
       "      <td>116.0</td>\n",
       "    </tr>\n",
       "    <tr>\n",
       "      <th>16</th>\n",
       "      <td>226616</td>\n",
       "      <td>usa</td>\n",
       "      <td>204.0</td>\n",
       "    </tr>\n",
       "    <tr>\n",
       "      <th>17</th>\n",
       "      <td>264934</td>\n",
       "      <td>spain</td>\n",
       "      <td>140.0</td>\n",
       "    </tr>\n",
       "    <tr>\n",
       "      <th>18</th>\n",
       "      <td>267830</td>\n",
       "      <td>usa</td>\n",
       "      <td>101.0</td>\n",
       "    </tr>\n",
       "  </tbody>\n",
       "</table>\n",
       "</div>"
      ],
      "text/plain": [
       "    User-ID   Location    Age\n",
       "0      8782     canada  239.0\n",
       "1     13273        usa  201.0\n",
       "2     20688      spain  104.0\n",
       "3     20857    germany  244.0\n",
       "4     71800        usa  136.0\n",
       "5     76482        usa  103.0\n",
       "6     90766      burma  136.0\n",
       "7     96714      spain  141.0\n",
       "8    101668    germany  151.0\n",
       "9    119282        usa  168.0\n",
       "10   121726  australia  148.0\n",
       "11   163655    germany  199.0\n",
       "12   172634      spain  100.0\n",
       "13   198984     france  104.0\n",
       "14   213150        usa  103.0\n",
       "15   224764        usa  116.0\n",
       "16   226616        usa  204.0\n",
       "17   264934      spain  140.0\n",
       "18   267830        usa  101.0"
      ]
     },
     "execution_count": 25,
     "metadata": {},
     "output_type": "execute_result"
    }
   ],
   "source": [
    "# 100세가 넘는 사람의 수?\n",
    "user[user.Age >= 100].reset_index(drop=True)"
   ]
  },
  {
   "cell_type": "markdown",
   "metadata": {},
   "source": [
    "- 100세 이상을 이상치라고 한다면, 19명의 이상치가 확인됨.\n",
    "- 이들의 정보를 없애지 말고, 이들을 제외한 나이의 평균-표준편차 ~ 평균+표준편차의 사이값 중 랜덤한 하나의 값으로 대체."
   ]
  },
  {
   "cell_type": "code",
   "execution_count": 26,
   "metadata": {},
   "outputs": [],
   "source": [
    "new_user = user[user.Age<100]\n",
    "user_mean = new_user.Age.mean()\n",
    "user_std = new_user.Age.std()"
   ]
  },
  {
   "cell_type": "code",
   "execution_count": 27,
   "metadata": {},
   "outputs": [],
   "source": [
    "import random\n",
    "user.loc[user.Age >= 100, 'Age'] = random.randint(int(user_mean-user_std), int(user_mean+user_std))"
   ]
  },
  {
   "cell_type": "code",
   "execution_count": 28,
   "metadata": {},
   "outputs": [
    {
     "name": "stderr",
     "output_type": "stream",
     "text": [
      "C:\\Users\\gommg\\anaconda3\\envs\\basic\\lib\\site-packages\\seaborn\\distributions.py:2551: FutureWarning: `distplot` is a deprecated function and will be removed in a future version. Please adapt your code to use either `displot` (a figure-level function with similar flexibility) or `histplot` (an axes-level function for histograms).\n",
      "  warnings.warn(msg, FutureWarning)\n"
     ]
    },
    {
     "data": {
      "text/plain": [
       "<AxesSubplot:xlabel='Age', ylabel='Density'>"
      ]
     },
     "execution_count": 28,
     "metadata": {},
     "output_type": "execute_result"
    },
    {
     "data": {
      "image/png": "[encoded data removed]",
      "text/plain": [
       "<Figure size 432x288 with 1 Axes>"
      ]
     },
     "metadata": {
      "needs_background": "light"
     },
     "output_type": "display_data"
    }
   ],
   "source": [
    "# 다시 plot\n",
    "sns.distplot(user.Age)"
   ]
  },
  {
   "cell_type": "code",
   "execution_count": 29,
   "metadata": {},
   "outputs": [
    {
     "data": {
      "text/html": [
       "<div>\n",
       "<style scoped>\n",
       "    .dataframe tbody tr th:only-of-type {\n",
       "        vertical-align: middle;\n",
       "    }\n",
       "\n",
       "    .dataframe tbody tr th {\n",
       "        vertical-align: top;\n",
       "    }\n",
       "\n",
       "    .dataframe thead th {\n",
       "        text-align: right;\n",
       "    }\n",
       "</style>\n",
       "<table border=\"1\" class=\"dataframe\">\n",
       "  <thead>\n",
       "    <tr style=\"text-align: right;\">\n",
       "      <th></th>\n",
       "      <th>User-ID</th>\n",
       "      <th>Location</th>\n",
       "      <th>Age</th>\n",
       "    </tr>\n",
       "  </thead>\n",
       "  <tbody>\n",
       "    <tr>\n",
       "      <th>0</th>\n",
       "      <td>183</td>\n",
       "      <td>portugal</td>\n",
       "      <td>27.0</td>\n",
       "    </tr>\n",
       "    <tr>\n",
       "      <th>1</th>\n",
       "      <td>242</td>\n",
       "      <td>germany</td>\n",
       "      <td>37.0</td>\n",
       "    </tr>\n",
       "    <tr>\n",
       "      <th>2</th>\n",
       "      <td>254</td>\n",
       "      <td>usa</td>\n",
       "      <td>24.0</td>\n",
       "    </tr>\n",
       "    <tr>\n",
       "      <th>3</th>\n",
       "      <td>388</td>\n",
       "      <td>usa</td>\n",
       "      <td>35.0</td>\n",
       "    </tr>\n",
       "    <tr>\n",
       "      <th>4</th>\n",
       "      <td>392</td>\n",
       "      <td>spain</td>\n",
       "      <td>44.0</td>\n",
       "    </tr>\n",
       "    <tr>\n",
       "      <th>...</th>\n",
       "      <td>...</td>\n",
       "      <td>...</td>\n",
       "      <td>...</td>\n",
       "    </tr>\n",
       "    <tr>\n",
       "      <th>5152</th>\n",
       "      <td>278356</td>\n",
       "      <td>usa</td>\n",
       "      <td>57.0</td>\n",
       "    </tr>\n",
       "    <tr>\n",
       "      <th>5153</th>\n",
       "      <td>278563</td>\n",
       "      <td>austria</td>\n",
       "      <td>37.0</td>\n",
       "    </tr>\n",
       "    <tr>\n",
       "      <th>5154</th>\n",
       "      <td>278668</td>\n",
       "      <td>spain</td>\n",
       "      <td>48.0</td>\n",
       "    </tr>\n",
       "    <tr>\n",
       "      <th>5155</th>\n",
       "      <td>278843</td>\n",
       "      <td>usa</td>\n",
       "      <td>28.0</td>\n",
       "    </tr>\n",
       "    <tr>\n",
       "      <th>5156</th>\n",
       "      <td>278851</td>\n",
       "      <td>usa</td>\n",
       "      <td>33.0</td>\n",
       "    </tr>\n",
       "  </tbody>\n",
       "</table>\n",
       "<p>5157 rows × 3 columns</p>\n",
       "</div>"
      ],
      "text/plain": [
       "      User-ID  Location   Age\n",
       "0         183  portugal  27.0\n",
       "1         242   germany  37.0\n",
       "2         254       usa  24.0\n",
       "3         388       usa  35.0\n",
       "4         392     spain  44.0\n",
       "...       ...       ...   ...\n",
       "5152   278356       usa  57.0\n",
       "5153   278563   austria  37.0\n",
       "5154   278668     spain  48.0\n",
       "5155   278843       usa  28.0\n",
       "5156   278851       usa  33.0\n",
       "\n",
       "[5157 rows x 3 columns]"
      ]
     },
     "execution_count": 29,
     "metadata": {},
     "output_type": "execute_result"
    }
   ],
   "source": [
    "user"
   ]
  },
  {
   "cell_type": "code",
   "execution_count": 30,
   "metadata": {
    "scrolled": true
   },
   "outputs": [
    {
     "data": {
      "text/plain": [
       "Goldmann       760\n",
       "Gallimard      640\n",
       "Harlequin      600\n",
       "Heyne          588\n",
       "Mira           501\n",
       "Pocket         489\n",
       "L?쩌bbe         445\n",
       "LGF            419\n",
       "Rowohlt Tb.    398\n",
       "Silhouette     345\n",
       "Name: Publisher, dtype: int64"
      ]
     },
     "execution_count": 30,
     "metadata": {},
     "output_type": "execute_result"
    }
   ],
   "source": [
    "book.Publisher.value_counts().head(10)"
   ]
  },
  {
   "cell_type": "code",
   "execution_count": 31,
   "metadata": {},
   "outputs": [],
   "source": [
    "user.to_csv('./user_pre.csv')"
   ]
  }
 ],
 "metadata": {
  "kernelspec": {
   "display_name": "Python 3",
   "language": "python",
   "name": "python3"
  },
  "language_info": {
   "codemirror_mode": {
    "name": "ipython",
    "version": 3
   },
   "file_extension": ".py",
   "mimetype": "text/x-python",
   "name": "python",
   "nbconvert_exporter": "python",
   "pygments_lexer": "ipython3",
   "version": "3.8.5"
  }
 },
 "nbformat": 4,
 "nbformat_minor": 4
}
